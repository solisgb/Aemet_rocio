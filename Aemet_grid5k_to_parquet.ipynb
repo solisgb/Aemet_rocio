{
 "cells": [
  {
   "cell_type": "markdown",
   "metadata": {},
   "source": [
    "Se leen los ficheros de datos en el grid de 5 km de Aemet y se salvan en ficheros parquet"
   ]
  },
  {
   "cell_type": "code",
   "execution_count": 1,
   "metadata": {},
   "outputs": [],
   "source": [
    "%load_ext autoreload\n",
    "%autoreload 2"
   ]
  },
  {
   "cell_type": "code",
   "execution_count": 2,
   "metadata": {},
   "outputs": [],
   "source": [
    "import pandas as pd\n",
    "from pathlib import Path\n",
    "import pyarrow as pa\n",
    "import pyarrow.parquet as pq"
   ]
  },
  {
   "cell_type": "markdown",
   "metadata": {},
   "source": [
    "Primero hay que definir el path de los ficheros gz con los datos de la rejilla en el diccionario files.\n",
    "\n",
    "Después, tienes que asignar un valor válido a la variable var (son valore válidos 'pcp', 'tmax' o 'tmin')"
   ]
  },
  {
   "cell_type": "code",
   "execution_count": 14,
   "metadata": {},
   "outputs": [],
   "source": [
    "# 'pcp, 'tmin, 'tmax'\n",
    "var = 'tmax'\n",
    "\n",
    "files = {\n",
    "    'pcp': r'E:\\DB\\aemet\\rejilla5km\\Serie_AEMET_v2_pcp_1951a2022_txt.tar\\pcp_red_SPAIN_1951-20221231.txt.gz',\n",
    "    'tmax' : r'E:\\DB\\aemet\\rejilla5km\\Serie_AEMET_v1_tmax_1951a2022_txt.tar\\tmax_red_SPAIN_1951-2022.geo.gz',\n",
    "    'tmin' : r'E:\\DB\\aemet\\rejilla5km\\Serie_AEMET_v1_tmin_1951a2022_txt.tar\\tmin_red_SPAIN_1951-2022.geo.gz'\n",
    "}\n",
    "\n",
    "if var not in files.keys():\n",
    "    raise ValueError('Error al asignar var')\n",
    "\n",
    "if files['pcp'] == files['tmax'] or files['pcp'] == files['tmin'] or files['tmax'] == files['tmin']:\n",
    "    raise ValueError('No pude haber valores repetidos en files')\n",
    "\n",
    "if var not in files[var]:\n",
    "    raise ValueError(f'El fichero de Aemet debe contener {var}')\n",
    "\n",
    "dir_out = Path(r'E:\\DB\\aemet\\rejilla5km\\parquet')\n",
    "fopath = dir_out.joinpath(f\"{var}.parquet\")\n",
    "\n",
    "if not dir_out.exists() or not dir_out.is_dir():\n",
    "    raise ValueError(f'El directorio de salida no existe')\n"
   ]
  },
  {
   "cell_type": "markdown",
   "metadata": {},
   "source": [
    "Se leen los ficheros gz y se guardan en formato parquet"
   ]
  },
  {
   "cell_type": "code",
   "execution_count": 15,
   "metadata": {},
   "outputs": [],
   "source": [
    "df = pd.read_csv(files[var], nrows=5)\n",
    "ncols = df.shape[1]\n",
    "df = pd.read_csv(files[var], compression='gzip', header = None, sep=r'\\s+', \n",
    "                 dtype={0: 'str', **{col: 'float32' for col in range(1, ncols)}})\n",
    "df.iloc[:, 0] = pd.to_datetime(df.iloc[:, 0], format='%Y%m%d')\n",
    "\n",
    "table = pa.Table.from_pandas(df)\n",
    "pq.write_table(table, fopath)\n"
   ]
  },
  {
   "cell_type": "markdown",
   "metadata": {},
   "source": [
    "Rejilla\n",
    "\n",
    "La rejilla en fpath se basa en la original de AEMET pero tiene 2 columns más: X e Y con las coordenadas de los puntos en EPSG 25830"
   ]
  },
  {
   "cell_type": "code",
   "execution_count": 4,
   "metadata": {},
   "outputs": [
    {
     "name": "stdout",
     "output_type": "stream",
     "text": [
      "<class 'pandas.core.frame.DataFrame'>\n",
      "RangeIndex: 16156 entries, 0 to 16155\n",
      "Data columns (total 6 columns):\n",
      " #   Column  Non-Null Count  Dtype  \n",
      "---  ------  --------------  -----  \n",
      " 0   id      16156 non-null  int32  \n",
      " 1   lon     16156 non-null  float32\n",
      " 2   lat     16156 non-null  float32\n",
      " 3   z       16156 non-null  float32\n",
      " 4   X       16156 non-null  float32\n",
      " 5   Y       16156 non-null  float32\n",
      "dtypes: float32(5), int32(1)\n",
      "memory usage: 378.8 KB\n"
     ]
    }
   ],
   "source": [
    "fpath = r'E:\\DB\\aemet\\rejilla5km\\parquet\\rejilla_25830.csv'\n",
    "\n",
    "df = pd.read_csv(fpath, dtype={0: 'float32', 1: 'float32', 2: 'int32', 3: 'float32', 4: 'float32', 5: 'float32'})\n",
    "\n",
    "df=df[['id', 'lon', 'lat', 'z', 'X', 'Y']]                 \n",
    "\n",
    "df.info()"
   ]
  },
  {
   "cell_type": "code",
   "execution_count": 5,
   "metadata": {},
   "outputs": [],
   "source": [
    "df['epsg'] = '25830'"
   ]
  },
  {
   "cell_type": "code",
   "execution_count": 6,
   "metadata": {},
   "outputs": [],
   "source": [
    "df = df.rename(columns = {'X':'x', 'Y':'y'})"
   ]
  },
  {
   "cell_type": "code",
   "execution_count": 7,
   "metadata": {},
   "outputs": [],
   "source": [
    "fopath = r'E:\\DB\\aemet\\rejilla5km\\parquet\\rejilla.parquet'\n",
    "table = pa.Table.from_pandas(df)\n",
    "pq.write_table(table, fopath)\n"
   ]
  }
 ],
 "metadata": {
  "kernelspec": {
   "display_name": "e1",
   "language": "python",
   "name": "python3"
  },
  "language_info": {
   "codemirror_mode": {
    "name": "ipython",
    "version": 3
   },
   "file_extension": ".py",
   "mimetype": "text/x-python",
   "name": "python",
   "nbconvert_exporter": "python",
   "pygments_lexer": "ipython3",
   "version": "3.11.6"
  }
 },
 "nbformat": 4,
 "nbformat_minor": 2
}
