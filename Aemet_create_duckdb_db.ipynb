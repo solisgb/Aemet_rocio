{
 "cells": [
  {
   "cell_type": "markdown",
   "metadata": {},
   "source": [
    "# Creo una db duckdb con unos puntos seleccionados\n",
    "\n",
    "Aemet facilita los datos de pcp, tmax y tmin diarios en una rejilla de 5km: https://www.aemet.es/es/serviciosclimaticos/cambio_climat/datos_diarios?w=2\n",
    "\n",
    "EStos datos se suministran en ficheros txt comprimidos con gzip y agrupados en ficheros tar. En otro nb he pasado los 3 ficheros de datos climáticos de Aemet a formato parquet (pcp, tmin, tmax). Los ficheros parquet presentan ventajas de acceso con respecto a los originales que se descargan de Aemet, aunque ocupan un poco más.\n",
    "\n",
    "Para el trabajo de un proyecto, presenta ventajas el disponer de los datos de la zona de interés en un formato de db relacional, con una tabla de puntos y otra con los datos climáticos (pcp, tmax y tmin).\n",
    "\n",
    "En este nb se extraen de los ficheros parquet los datos de los puntos seleccionados, se les cambia la estructura a un formato relacional y se guardan en una db duckdb\n"
   ]
  },
  {
   "cell_type": "code",
   "execution_count": 1,
   "metadata": {},
   "outputs": [],
   "source": [
    "%load_ext autoreload\n",
    "%autoreload 2"
   ]
  },
  {
   "cell_type": "code",
   "execution_count": 9,
   "metadata": {},
   "outputs": [
    {
     "name": "stdout",
     "output_type": "stream",
     "text": [
      "Se ha añadido E:\\DB\\aemet\\rejilla5km to sys.path\n"
     ]
    }
   ],
   "source": [
    "import duckdb\n",
    "import duckdb_utilities as ducku\n",
    "import pandas as pd\n",
    "from pathlib import Path \n",
    "import pyarrow.parquet as pq\n",
    "\n",
    "import sys\n",
    "dpath = Path(r'E:\\DB\\aemet\\rejilla5km')\n",
    "success = True\n",
    "if dpath.exists() and dpath.is_dir():\n",
    "    if dpath not in sys.path:\n",
    "        sys.path.append(str(dpath))\n",
    "        print(f'Se ha añadido {dpath} to sys.path')\n",
    "    else:\n",
    "        print(f'{dpath} ya estaba incluido en sys.path')\n",
    "else:\n",
    "    print(f'{dpath} no existe o no es un directorio')\n",
    "    success = False\n",
    "if success:\n",
    "    import Aemet_create_duckdb_db as aemet\n"
   ]
  },
  {
   "cell_type": "markdown",
   "metadata": {},
   "source": [
    "## DB rocio\n",
    "\n",
    "El nombre rocio significa Rejilla Observacional Con Interpolación Óptima (ROCIO) y ha sido escogido por Aemet para hacer referencia a los datos diarios de pcp, tmax y tmin en una rejilla de 5 km. Canarias va aparte y su rejilla es de 2.5 km."
   ]
  },
  {
   "cell_type": "markdown",
   "metadata": {},
   "source": [
    "Se pueden crear dos tipos de db según se organicen los datos en tablas\n",
    "\n",
    "* Una db con 3 tablas: pcp, tmin y tmax. La creación de estas 3 tablas es obligatoria.\n",
    "    * pcp, con columnas: fid, fecha, pcp\n",
    "    * tmax, con columnas: fid, fecha, tmax\n",
    "    * tmin, con columnas: fid, fecha, tmin\n",
    "* Una bd con una sola tabla, rocio, que tiene como columnas fid, fecha, pcp, tmin, tmax\n",
    "\n",
    "Además de las tablas descritas para pcp, tmax y tmin, siempre hay una tabla adicional, puntos, con las coordenadas y z de los puntos de la rejilla. \n",
    "\n",
    "La tabla puntos está en coordenadas epsg 4258 pero también se han guardados las coordenadas proyectadas x y en epsg 25830; se pueden actualizar las coordenadas proyectadas (x, y) de los puntos en las zonas 25829 o 25831 transformando sus coordenadas y anotando el epsg; en este momento todos los puntos están en 25830 "
   ]
  },
  {
   "cell_type": "code",
   "execution_count": 3,
   "metadata": {},
   "outputs": [],
   "source": [
    "dbpath = r'E:\\LSGB\\20240603_Los_Santos\\db\\aemet_rocio.duckdb'"
   ]
  },
  {
   "cell_type": "markdown",
   "metadata": {},
   "source": [
    "### Puntos seleccionados del grid\n",
    "\n",
    "En el ejemplo a continuación los puntos se han obtenido como una operación de intersección en QGIS y exportado a un fichero CSV. Leo el fichero CSV y guardo la columna fid (identificados del punto) como una lista.\n",
    "\n",
    "En otros casos con menor puntos, puedo crear directamente la lista de puntos.\n"
   ]
  },
  {
   "cell_type": "code",
   "execution_count": 4,
   "metadata": {},
   "outputs": [
    {
     "name": "stdout",
     "output_type": "stream",
     "text": [
      "<class 'pandas.core.frame.DataFrame'>\n",
      "RangeIndex: 144 entries, 0 to 143\n",
      "Data columns (total 4 columns):\n",
      " #   Column  Non-Null Count  Dtype  \n",
      "---  ------  --------------  -----  \n",
      " 0   X       144 non-null    float64\n",
      " 1   Y       144 non-null    float64\n",
      " 2   id      144 non-null    int64  \n",
      " 3   z       144 non-null    int64  \n",
      "dtypes: float64(2), int64(2)\n",
      "memory usage: 4.6 KB\n",
      "None\n"
     ]
    },
    {
     "data": {
      "text/plain": [
       "144"
      ]
     },
     "execution_count": 4,
     "metadata": {},
     "output_type": "execute_result"
    }
   ],
   "source": [
    "fpuntos_envolvente = r'E:\\LSGB\\20240603_Los_Santos\\qgis\\layers\\grid_aemet_cs_envolvente.csv'\n",
    "\n",
    "df = pd.read_csv(fpuntos_envolvente)\n",
    "print(df.info())\n",
    "\n",
    "ptos_env = list(df['id'])\n",
    "\n",
    "cols_env = [0,] + ptos_env\n",
    "\n",
    "len(ptos_env)\n"
   ]
  },
  {
   "cell_type": "markdown",
   "metadata": {},
   "source": [
    "### Insertar los puntos de la rejilla en la db\n",
    "\n",
    "Se pueden insrtar todos o solo los seleccionados, que son los únicos que van a tener datos de pcp, tmax y tmin. En este caso los voy a insertar todos"
   ]
  },
  {
   "cell_type": "code",
   "execution_count": 25,
   "metadata": {},
   "outputs": [],
   "source": [
    "def get_info_parquet_file(parquet_file):\n",
    "    \"\"\" \n",
    "    Return the name and type of the columns of a parque file\n",
    "\n",
    "    Parameters\n",
    "    ---------\n",
    "    parquet_file : str\n",
    "    \"\"\"\n",
    "    table = pq.read_table(parquet_file)\n",
    "    with duckdb.connect() as con:\n",
    "        con.register('parquet_table', table)\n",
    "        schema = con.execute('DESCRIBE parquet_table').df()\n",
    "        print(schema,'\\n')\n",
    "        df = con.execute('select * from parquet_table limit 5').df()\n",
    "        print('head(5)')\n",
    "        print(df.head())    \n",
    "        df = con.execute('select count(*) as rows from parquet_table').df()\n",
    "        print(df.head())    "
   ]
  },
  {
   "cell_type": "code",
   "execution_count": 26,
   "metadata": {},
   "outputs": [
    {
     "name": "stdout",
     "output_type": "stream",
     "text": [
      "  column_name column_type null   key default extra\n",
      "0          id     INTEGER  YES  None    None  None\n",
      "1         lon       FLOAT  YES  None    None  None\n",
      "2         lat       FLOAT  YES  None    None  None\n",
      "3           z       FLOAT  YES  None    None  None\n",
      "4           x       FLOAT  YES  None    None  None\n",
      "5           y       FLOAT  YES  None    None  None\n",
      "6        epsg     VARCHAR  YES  None    None  None \n",
      "\n",
      "head(5)\n",
      "   id    lon        lat      z             x           y   epsg\n",
      "0   1 -2.948  35.306999  102.0  504727.28125  3907090.25  25830\n",
      "1   2 -5.323  35.897999   58.0  290346.15625  3975128.00  25830\n",
      "2   3 -5.630  36.049000  124.0  263085.28125  3992584.50  25830\n",
      "3   4 -5.568  36.049000  186.0  268671.50000  3992435.25  25830\n",
      "4   5 -5.507  36.049000  163.0  274167.56250  3992291.75  25830\n",
      "    rows\n",
      "0  16156\n"
     ]
    }
   ],
   "source": [
    "fpath = r'E:\\DB\\aemet\\rejilla5km\\parquet\\rejilla.parquet'\n",
    "\n",
    "get_info_parquet_file(fpath)\n"
   ]
  },
  {
   "cell_type": "code",
   "execution_count": 27,
   "metadata": {},
   "outputs": [
    {
     "data": {
      "text/html": [
       "<div>\n",
       "<style scoped>\n",
       "    .dataframe tbody tr th:only-of-type {\n",
       "        vertical-align: middle;\n",
       "    }\n",
       "\n",
       "    .dataframe tbody tr th {\n",
       "        vertical-align: top;\n",
       "    }\n",
       "\n",
       "    .dataframe thead th {\n",
       "        text-align: right;\n",
       "    }\n",
       "</style>\n",
       "<table border=\"1\" class=\"dataframe\">\n",
       "  <thead>\n",
       "    <tr style=\"text-align: right;\">\n",
       "      <th></th>\n",
       "      <th>id</th>\n",
       "      <th>lon</th>\n",
       "      <th>lat</th>\n",
       "      <th>z</th>\n",
       "      <th>x</th>\n",
       "      <th>y</th>\n",
       "      <th>epsg</th>\n",
       "    </tr>\n",
       "  </thead>\n",
       "  <tbody>\n",
       "    <tr>\n",
       "      <th>0</th>\n",
       "      <td>1</td>\n",
       "      <td>-2.948</td>\n",
       "      <td>35.306999</td>\n",
       "      <td>102.0</td>\n",
       "      <td>504727.28125</td>\n",
       "      <td>3907090.25</td>\n",
       "      <td>25830</td>\n",
       "    </tr>\n",
       "    <tr>\n",
       "      <th>1</th>\n",
       "      <td>2</td>\n",
       "      <td>-5.323</td>\n",
       "      <td>35.897999</td>\n",
       "      <td>58.0</td>\n",
       "      <td>290346.15625</td>\n",
       "      <td>3975128.00</td>\n",
       "      <td>25830</td>\n",
       "    </tr>\n",
       "    <tr>\n",
       "      <th>2</th>\n",
       "      <td>3</td>\n",
       "      <td>-5.630</td>\n",
       "      <td>36.049000</td>\n",
       "      <td>124.0</td>\n",
       "      <td>263085.28125</td>\n",
       "      <td>3992584.50</td>\n",
       "      <td>25830</td>\n",
       "    </tr>\n",
       "    <tr>\n",
       "      <th>3</th>\n",
       "      <td>4</td>\n",
       "      <td>-5.568</td>\n",
       "      <td>36.049000</td>\n",
       "      <td>186.0</td>\n",
       "      <td>268671.50000</td>\n",
       "      <td>3992435.25</td>\n",
       "      <td>25830</td>\n",
       "    </tr>\n",
       "    <tr>\n",
       "      <th>4</th>\n",
       "      <td>5</td>\n",
       "      <td>-5.507</td>\n",
       "      <td>36.049000</td>\n",
       "      <td>163.0</td>\n",
       "      <td>274167.56250</td>\n",
       "      <td>3992291.75</td>\n",
       "      <td>25830</td>\n",
       "    </tr>\n",
       "  </tbody>\n",
       "</table>\n",
       "</div>"
      ],
      "text/plain": [
       "   id    lon        lat      z             x           y   epsg\n",
       "0   1 -2.948  35.306999  102.0  504727.28125  3907090.25  25830\n",
       "1   2 -5.323  35.897999   58.0  290346.15625  3975128.00  25830\n",
       "2   3 -5.630  36.049000  124.0  263085.28125  3992584.50  25830\n",
       "3   4 -5.568  36.049000  186.0  268671.50000  3992435.25  25830\n",
       "4   5 -5.507  36.049000  163.0  274167.56250  3992291.75  25830"
      ]
     },
     "execution_count": 27,
     "metadata": {},
     "output_type": "execute_result"
    }
   ],
   "source": [
    "query = f\"SELECT * FROM read_parquet('{fpath}')\"\n",
    "df = duckdb.query(query).df()\n",
    "df.head()"
   ]
  },
  {
   "cell_type": "code",
   "execution_count": 28,
   "metadata": {},
   "outputs": [
    {
     "name": "stdout",
     "output_type": "stream",
     "text": [
      "   fid    lon        lat      z             x           y   epsg\n",
      "0    1 -2.948  35.306999  102.0  504727.28125  3907090.25  25830\n",
      "1    2 -5.323  35.897999   58.0  290346.15625  3975128.00  25830\n",
      "2    3 -5.630  36.049000  124.0  263085.28125  3992584.50  25830\n",
      "3    4 -5.568  36.049000  186.0  268671.50000  3992435.25  25830\n",
      "4    5 -5.507  36.049000  163.0  274167.56250  3992291.75  25830\n",
      "    rows\n",
      "0  16156\n"
     ]
    }
   ],
   "source": [
    "create_table = \\\n",
    "f\"\"\" \n",
    "create table if not exists puntos\n",
    "(\n",
    "    fid integer primary key,\n",
    "    lon real,\n",
    "    lat real,\n",
    "    z   real,\n",
    "    x   real,\n",
    "    y   real,\n",
    "    epsg varchar\n",
    ")\n",
    "\"\"\"\n",
    "query = f\"INSERT INTO puntos SELECT * FROM df\"\n",
    "\n",
    "with duckdb.connect(dbpath) as con:\n",
    "    con.execute(create_table)\n",
    "    con.execute(query)\n",
    "    con.commit()\n",
    "    rows = con.execute('select * from puntos limit 5').df()\n",
    "    print(rows)\n",
    "    row = con.execute('select count(*) as rows from puntos').df()\n",
    "    print(row)\n"
   ]
  },
  {
   "cell_type": "markdown",
   "metadata": {},
   "source": [
    "### Insertar datos de pcp, tmin y tmax"
   ]
  },
  {
   "cell_type": "code",
   "execution_count": 21,
   "metadata": {},
   "outputs": [
    {
     "name": "stdout",
     "output_type": "stream",
     "text": [
      "           0  4178  4179  4180  4181  4182  4183  4184  4185  4186  ...  5413  \\\n",
      "0 1951-01-01  0.62  0.87  1.18  1.18  0.90  0.71  0.56  0.31  0.18  ...  0.46   \n",
      "1 1951-01-02  1.41  1.60  1.95  2.13  1.91  1.66  1.29  0.88  0.60  ...  2.13   \n",
      "2 1951-01-03  0.11  0.36  0.74  0.86  0.67  0.49  0.21 -0.14 -0.29  ...  0.14   \n",
      "3 1951-01-04 -1.18 -0.84 -0.50 -0.53 -0.81 -0.90 -0.93 -1.03 -0.96  ... -1.03   \n",
      "4 1951-01-05 -2.16 -1.81 -1.60 -1.88 -2.31 -2.35 -2.19 -2.06 -1.78  ... -2.85   \n",
      "\n",
      "   5414  5415  5416  5417  5418  5419  5420  5421  5422  \n",
      "0  0.68  1.25  2.00  2.87  3.75  4.03  4.31  4.06  4.28  \n",
      "1  2.23  2.70  3.54  4.57  5.60  6.01  6.41  6.26  6.45  \n",
      "2  0.27  0.83  1.64  2.67  3.74  4.27  4.83  4.83  5.11  \n",
      "3 -0.71 -0.09  0.69  1.60  2.57  2.97  3.38  3.32  3.63  \n",
      "4 -2.41 -1.69 -1.06 -0.41  0.37  0.59  0.90  0.81  1.12  \n",
      "\n",
      "[5 rows x 145 columns]\n",
      "<class 'pandas.core.frame.DataFrame'>\n",
      "RangeIndex: 3786912 entries, 0 to 3786911\n",
      "Data columns (total 3 columns):\n",
      " #   Column  Dtype         \n",
      "---  ------  -----         \n",
      " 0   fid     int32         \n",
      " 1   fecha   datetime64[us]\n",
      " 2   value   float32       \n",
      "dtypes: datetime64[us](1), float32(1), int32(1)\n",
      "memory usage: 57.8 MB\n",
      "None\n"
     ]
    },
    {
     "data": {
      "application/vnd.jupyter.widget-view+json": {
       "model_id": "8927f507c5ea427dbb30c972978ace50",
       "version_major": 2,
       "version_minor": 0
      },
      "text/plain": [
       "FloatProgress(value=0.0, layout=Layout(width='auto'), style=ProgressStyle(bar_color='black'))"
      ]
     },
     "metadata": {},
     "output_type": "display_data"
    },
    {
     "name": "stdout",
     "output_type": "stream",
     "text": [
      "  column_name data_type\n",
      "0         fid   INTEGER\n",
      "1       fecha      DATE\n",
      "2        tmin     FLOAT\n",
      "   count_star()\n",
      "0       3786912\n"
     ]
    },
    {
     "data": {
      "text/html": [
       "<div>\n",
       "<style scoped>\n",
       "    .dataframe tbody tr th:only-of-type {\n",
       "        vertical-align: middle;\n",
       "    }\n",
       "\n",
       "    .dataframe tbody tr th {\n",
       "        vertical-align: top;\n",
       "    }\n",
       "\n",
       "    .dataframe thead th {\n",
       "        text-align: right;\n",
       "    }\n",
       "</style>\n",
       "<table border=\"1\" class=\"dataframe\">\n",
       "  <thead>\n",
       "    <tr style=\"text-align: right;\">\n",
       "      <th></th>\n",
       "      <th>fid</th>\n",
       "      <th>fecha</th>\n",
       "      <th>tmin</th>\n",
       "    </tr>\n",
       "  </thead>\n",
       "  <tbody>\n",
       "    <tr>\n",
       "      <th>0</th>\n",
       "      <td>4178</td>\n",
       "      <td>1951-01-01</td>\n",
       "      <td>0.62</td>\n",
       "    </tr>\n",
       "    <tr>\n",
       "      <th>1</th>\n",
       "      <td>4178</td>\n",
       "      <td>1951-01-02</td>\n",
       "      <td>1.41</td>\n",
       "    </tr>\n",
       "    <tr>\n",
       "      <th>2</th>\n",
       "      <td>4178</td>\n",
       "      <td>1951-01-03</td>\n",
       "      <td>0.11</td>\n",
       "    </tr>\n",
       "    <tr>\n",
       "      <th>3</th>\n",
       "      <td>4178</td>\n",
       "      <td>1951-01-04</td>\n",
       "      <td>-1.18</td>\n",
       "    </tr>\n",
       "    <tr>\n",
       "      <th>4</th>\n",
       "      <td>4178</td>\n",
       "      <td>1951-01-05</td>\n",
       "      <td>-2.16</td>\n",
       "    </tr>\n",
       "  </tbody>\n",
       "</table>\n",
       "</div>"
      ],
      "text/plain": [
       "    fid      fecha  tmin\n",
       "0  4178 1951-01-01  0.62\n",
       "1  4178 1951-01-02  1.41\n",
       "2  4178 1951-01-03  0.11\n",
       "3  4178 1951-01-04 -1.18\n",
       "4  4178 1951-01-05 -2.16"
      ]
     },
     "execution_count": 21,
     "metadata": {},
     "output_type": "execute_result"
    }
   ],
   "source": [
    "# 'pcp, 'tmin, 'tmax'\n",
    "var = 'tmin'\n",
    "\n",
    "files = {\n",
    "    'pcp':  r'E:\\DB\\aemet\\rejilla5km\\parquet\\pcp.parquet',\n",
    "    'tmax': r'E:\\DB\\aemet\\rejilla5km\\parquet\\tmax.parquet',\n",
    "    'tmin': r'E:\\DB\\aemet\\rejilla5km\\parquet\\tmin.parquet'\n",
    "}\n",
    "\n",
    "if var not in files.keys():\n",
    "    raise ValueError('Error al asignar var')\n",
    "\n",
    "if files['pcp'] == files['tmax'] or files['pcp'] == files['tmin'] or files['tmax'] == files['tmin']:\n",
    "    raise ValueError('No pude haber valores repetidos en files')\n",
    "\n",
    "if var not in files[var]:\n",
    "    raise ValueError(f'El fichero de Aemet debe contener {var}')\n",
    "\n",
    "df = aemet.read_parquet_columns(files[var], cols_env)\n",
    "# print(df.head())\n",
    "\n",
    "up_df = aemet.melt_rocio_data(df)\n",
    "# print(up_df.info())\n",
    "\n",
    "create_table = \\\n",
    "f\"\"\" \n",
    "create table if not exists {var}\n",
    "(\n",
    "    fid integer,\n",
    "    fecha date,\n",
    "    {var} real,\n",
    "    primary key(fid, fecha)\n",
    ")\n",
    "\"\"\"\n",
    "query = f\"INSERT INTO {var} SELECT * FROM up_df\"\n",
    "\n",
    "with duckdb.connect(dbpath) as con:\n",
    "    con.execute(create_table)\n",
    "    con.execute(query)\n",
    "    con.commit()\n",
    "\n",
    "    cols_df = ducku.get_columns(dbpath, var)\n",
    "    print(cols_df)\n",
    "\n",
    "    row = con.execute(f'select count(*) from {var}').df()\n",
    "    print(row)\n",
    "    \n",
    "    rows = con.execute(f'select * from {var} limit 5').df()\n",
    "\n",
    "rows.head()\n",
    "\n"
   ]
  },
  {
   "cell_type": "code",
   "execution_count": 29,
   "metadata": {},
   "outputs": [
    {
     "data": {
      "text/html": [
       "<div>\n",
       "<style scoped>\n",
       "    .dataframe tbody tr th:only-of-type {\n",
       "        vertical-align: middle;\n",
       "    }\n",
       "\n",
       "    .dataframe tbody tr th {\n",
       "        vertical-align: top;\n",
       "    }\n",
       "\n",
       "    .dataframe thead th {\n",
       "        text-align: right;\n",
       "    }\n",
       "</style>\n",
       "<table border=\"1\" class=\"dataframe\">\n",
       "  <thead>\n",
       "    <tr style=\"text-align: right;\">\n",
       "      <th></th>\n",
       "      <th>table_name</th>\n",
       "    </tr>\n",
       "  </thead>\n",
       "  <tbody>\n",
       "    <tr>\n",
       "      <th>0</th>\n",
       "      <td>pcp</td>\n",
       "    </tr>\n",
       "    <tr>\n",
       "      <th>1</th>\n",
       "      <td>puntos</td>\n",
       "    </tr>\n",
       "    <tr>\n",
       "      <th>2</th>\n",
       "      <td>tmax</td>\n",
       "    </tr>\n",
       "    <tr>\n",
       "      <th>3</th>\n",
       "      <td>tmin</td>\n",
       "    </tr>\n",
       "  </tbody>\n",
       "</table>\n",
       "</div>"
      ],
      "text/plain": [
       "  table_name\n",
       "0        pcp\n",
       "1     puntos\n",
       "2       tmax\n",
       "3       tmin"
      ]
     },
     "execution_count": 29,
     "metadata": {},
     "output_type": "execute_result"
    }
   ],
   "source": [
    "ducku.get_tables(dbpath)"
   ]
  },
  {
   "cell_type": "code",
   "execution_count": 36,
   "metadata": {},
   "outputs": [
    {
     "name": "stdout",
     "output_type": "stream",
     "text": [
      "pcp\n",
      "  column_name data_type\n",
      "0         fid   INTEGER\n",
      "1       fecha      DATE\n",
      "2         pcp     FLOAT\n",
      "      rows\n",
      "0  3786912\n",
      "puntos\n",
      "  column_name data_type\n",
      "0         fid   INTEGER\n",
      "1         lon     FLOAT\n",
      "2         lat     FLOAT\n",
      "3           z     FLOAT\n",
      "4           x     FLOAT\n",
      "5           y     FLOAT\n",
      "6        epsg   VARCHAR\n",
      "    rows\n",
      "0  16156\n",
      "tmax\n",
      "  column_name data_type\n",
      "0         fid   INTEGER\n",
      "1       fecha      DATE\n",
      "2        tmax     FLOAT\n",
      "      rows\n",
      "0  3786912\n",
      "tmin\n",
      "  column_name data_type\n",
      "0         fid   INTEGER\n",
      "1       fecha      DATE\n",
      "2        tmin     FLOAT\n",
      "      rows\n",
      "0  3786912\n"
     ]
    }
   ],
   "source": [
    "tables = ducku.get_tables(dbpath)['table_name'].tolist()\n",
    "with duckdb.connect(dbpath) as con:\n",
    "    for table in tables:\n",
    "        print(table)\n",
    "        print(ducku.get_columns(dbpath, table))\n",
    "        row = con.execute(f'select count(*) as rows from {table}').df()\n",
    "        print(row)\n"
   ]
  },
  {
   "cell_type": "markdown",
   "metadata": {},
   "source": [
    "## Merge tables\n",
    "\n",
    "Esto es opcional, antes de hacer nada hago una copia de la db con las 3 tablas.\n",
    "\n",
    "Ahora voy a pasar las tablas de pcp, tmax, tmin a una sola tabla rocio"
   ]
  },
  {
   "cell_type": "code",
   "execution_count": 37,
   "metadata": {},
   "outputs": [
    {
     "data": {
      "application/vnd.jupyter.widget-view+json": {
       "model_id": "2019416c953941b5ae2da5b2efd25f85",
       "version_major": 2,
       "version_minor": 0
      },
      "text/plain": [
       "FloatProgress(value=0.0, layout=Layout(width='auto'), style=ProgressStyle(bar_color='black'))"
      ]
     },
     "metadata": {},
     "output_type": "display_data"
    }
   ],
   "source": [
    "create_table_rocio = \\\n",
    "f\"\"\" \n",
    "create table if not exists rocio(\n",
    "    fid varchar,\n",
    "    fecha date,\n",
    "    pcp real, \n",
    "    tmin real,\n",
    "    tmax real,\n",
    "    primary key(fid, fecha)\n",
    ")\n",
    "\"\"\"\n",
    "\n",
    "insert_pcp = \\\n",
    "\"\"\" \n",
    "insert into rocio (fid, fecha, pcp)\n",
    "select fid, fecha, pcp from pcp order by fid,fecha\n",
    "\"\"\"\n",
    "with duckdb.connect(dbpath) as con:\n",
    "    con.execute(create_table_rocio)\n",
    "    con.execute(insert_pcp)\n",
    "con.commit()\n"
   ]
  },
  {
   "cell_type": "code",
   "execution_count": 40,
   "metadata": {},
   "outputs": [
    {
     "name": "stdout",
     "output_type": "stream",
     "text": [
      "head(5)\n",
      "    fid      fecha   pcp  tmin   tmax\n",
      "0  4178 1951-01-01  0.00  0.62   9.02\n",
      "1  4178 1951-01-02  0.91  1.41   8.90\n",
      "2  4178 1951-01-03  1.40  0.11   7.76\n",
      "3  4178 1951-01-04  0.03 -1.18   9.13\n",
      "4  4178 1951-01-05  0.00 -2.16  10.17\n",
      "       row\n",
      "0  3786912\n"
     ]
    }
   ],
   "source": [
    "update_template = \\\n",
    "\"\"\" \n",
    "update rocio\n",
    "set {} = t.{}\n",
    "from {} t\n",
    "where rocio.fid = t.fid and rocio.fecha = t.fecha\n",
    "\"\"\"\n",
    "with duckdb.connect(dbpath) as con:\n",
    "    for var in ('tmax', 'tmin'):\n",
    "        update_stm = update_template.format(var, var, var)\n",
    "        con.execute(update_stm)\n",
    "    con.commit()\n",
    "    rocio_df = con.execute('select * from rocio order by fid, fecha limit 5').df()\n",
    "    row = con.execute('select count(*) as row from rocio').df()\n",
    "print('head(5)')\n",
    "print(rocio_df)\n",
    "print(row)\n"
   ]
  },
  {
   "cell_type": "markdown",
   "metadata": {},
   "source": [
    "### Borrar las tablas de partida y recuperar el espacio"
   ]
  },
  {
   "cell_type": "code",
   "execution_count": 41,
   "metadata": {},
   "outputs": [],
   "source": [
    "drop_table_template = 'drop table if exists {}'\n",
    "with duckdb.connect(dbpath) as con:\n",
    "    for var in ('pcp', 'tmax', 'tmin'):\n",
    "        drop_table_stm = drop_table_template.format(var)\n",
    "    con.execute(\"VACUUM\")\n",
    "    con.execute(\"CHECKPOINT\")\n",
    " "
   ]
  },
  {
   "cell_type": "markdown",
   "metadata": {},
   "source": [
    "## Resumen y conclusiones\n",
    "\n",
    "* La rejilla de 5 km de Aemet tiene algo más de 16,000 puntos\n",
    "* Se han seleccionado unos 140 puntos y se han creado 2 db\n",
    "* La db con los datos clmáticos en 3 tablas ocupa 178.76 Mb\n",
    "* La db con los datos climáticos en una tabla, rocio, ocupa 115.76 Mb\n",
    "* Por la comodidad trabajar con una tabla y el menor tamaño de la db, se selecciona como la mejor de las 2 opciones  "
   ]
  }
 ],
 "metadata": {
  "kernelspec": {
   "display_name": "e1",
   "language": "python",
   "name": "python3"
  },
  "language_info": {
   "codemirror_mode": {
    "name": "ipython",
    "version": 3
   },
   "file_extension": ".py",
   "mimetype": "text/x-python",
   "name": "python",
   "nbconvert_exporter": "python",
   "pygments_lexer": "ipython3",
   "version": "3.11.6"
  }
 },
 "nbformat": 4,
 "nbformat_minor": 2
}
